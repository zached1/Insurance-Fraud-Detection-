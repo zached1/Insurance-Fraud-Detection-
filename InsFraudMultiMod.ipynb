{
  "nbformat": 4,
  "nbformat_minor": 0,
  "metadata": {
    "colab": {
      "provenance": []
    },
    "kernelspec": {
      "name": "python3",
      "display_name": "Python 3"
    },
    "language_info": {
      "name": "python"
    }
  },
  "cells": [
    {
      "cell_type": "code",
      "execution_count": 1,
      "metadata": {
        "id": "2JnVZtVbxiCl"
      },
      "outputs": [],
      "source": [
        "import pandas as pd\n",
        "from matplotlib import pyplot as plt\n",
        "import seaborn as sns\n",
        "from sklearn.ensemble import ExtraTreesRegressor\n",
        "from sklearn.preprocessing import LabelEncoder, StandardScaler\n",
        "from sklearn.model_selection import train_test_split\n",
        "import numpy as np\n",
        "import sklearn.metrics\n",
        "from pylab import rcParams\n",
        "%matplotlib inline\n",
        "pd.set_option('display.max_columns', 500)\n",
        "pd.set_option('display.max_rows', 500)"
      ]
    },
    {
      "cell_type": "code",
      "source": [
        "#load & view raw data\n",
        "df = pd.read_csv('insurance_claims.csv')\n",
        "df.head(10)"
      ],
      "metadata": {
        "id": "CueHpPcqyoSH"
      },
      "execution_count": null,
      "outputs": []
    },
    {
      "cell_type": "code",
      "source": [
        "df.dtypes"
      ],
      "metadata": {
        "id": "aVdLM4bPyult"
      },
      "execution_count": null,
      "outputs": []
    },
    {
      "cell_type": "code",
      "source": [
        "df.columns"
      ],
      "metadata": {
        "id": "BMdKiMSFyxsa"
      },
      "execution_count": null,
      "outputs": []
    },
    {
      "cell_type": "code",
      "source": [
        "df.shape"
      ],
      "metadata": {
        "id": "-aJEKvuXy1Gg"
      },
      "execution_count": null,
      "outputs": []
    },
    {
      "cell_type": "code",
      "source": [
        "df.nunique()"
      ],
      "metadata": {
        "id": "viRCut_oy2lo"
      },
      "execution_count": null,
      "outputs": []
    },
    {
      "cell_type": "code",
      "source": [
        "plt.style.use('fivethirtyeight')\n",
        "ax = sns.countplot(x='fraud_reported', data=df, hue='fraud_reported')"
      ],
      "metadata": {
        "id": "OqlzgNIgy4oI"
      },
      "execution_count": null,
      "outputs": []
    },
    {
      "cell_type": "code",
      "source": [
        "df['fraud_reported'].value_counts() # Count number of frauds vs non-frauds"
      ],
      "metadata": {
        "id": "sctReDIYy73G"
      },
      "execution_count": null,
      "outputs": []
    },
    {
      "cell_type": "code",
      "source": [
        "df['incident_state'].value_counts()"
      ],
      "metadata": {
        "id": "BKMBzccoy-ls"
      },
      "execution_count": null,
      "outputs": []
    },
    {
      "cell_type": "code",
      "source": [
        "plt.style.use('fivethirtyeight')\n",
        "fig = plt.figure(figsize=(10,6))\n",
        "ax = df.groupby('incident_state').fraud_reported.count().plot.bar(ylim=0)\n",
        "ax.set_ylabel('Fraud reported')\n",
        "plt.show()"
      ],
      "metadata": {
        "id": "IPSO9ub3zA4y"
      },
      "execution_count": null,
      "outputs": []
    },
    {
      "cell_type": "code",
      "source": [
        "plt.rcParams['figure.figsize'] = [15, 8]\n",
        "ax= plt.style.use('fivethirtyeight')\n",
        "table=pd.crosstab(df.age, df.fraud_reported)\n",
        "table.div(table.sum(1).astype(float), axis=0).plot(kind='bar', stacked=True)\n",
        "plt.title('Stacked Bar Chart of Age vs Fraud Reported', fontsize=12)\n",
        "plt.xlabel('Age')\n",
        "plt.ylabel('Fraud reported')\n",
        "plt.show()"
      ],
      "metadata": {
        "id": "oxdXA-yGzDaq"
      },
      "execution_count": null,
      "outputs": []
    },
    {
      "cell_type": "code",
      "source": [
        "plt.style.use('fivethirtyeight')\n",
        "fig = plt.figure(figsize=(18,6))\n",
        "ax = df.groupby('incident_date').total_claim_amount.count().plot.bar(ylim=0)\n",
        "ax.set_ylabel('Claim amount ($)')\n",
        "plt.show()"
      ],
      "metadata": {
        "id": "UXMzO_0DzMWu"
      },
      "execution_count": null,
      "outputs": []
    },
    {
      "cell_type": "code",
      "source": [
        "plt.style.use('fivethirtyeight')\n",
        "fig = plt.figure(figsize=(10,6))\n",
        "ax = df.groupby('policy_state').fraud_reported.count().plot.bar(ylim=0)\n",
        "ax.set_ylabel('Fraud reported')\n",
        "plt.show()"
      ],
      "metadata": {
        "id": "1AIWXKTgzPmD"
      },
      "execution_count": null,
      "outputs": []
    },
    {
      "cell_type": "code",
      "source": [
        "plt.rcParams['figure.figsize'] = [10, 6]\n",
        "ax= plt.style.use('fivethirtyeight')\n",
        "table=pd.crosstab(df.policy_state, df.fraud_reported)\n",
        "table.div(table.sum(1).astype(float), axis=0).plot(kind='bar', stacked=True)\n",
        "plt.title('Stacked Bar Chart of Policy State vs Fraud Reported', fontsize=12)\n",
        "plt.xlabel('Policy state')\n",
        "plt.ylabel('Fraud reported')\n",
        "plt.show()"
      ],
      "metadata": {
        "id": "O6hK_M_wzTo0"
      },
      "execution_count": null,
      "outputs": []
    },
    {
      "cell_type": "code",
      "source": [
        "plt.style.use('fivethirtyeight')\n",
        "fig = plt.figure(figsize=(10,6))\n",
        "ax = df.groupby('incident_type').fraud_reported.count().plot.bar(ylim=0)\n",
        "ax.set_xticklabels(ax.get_xticklabels(), rotation=20, ha=\"right\")\n",
        "ax.set_ylabel('Fraud reported')\n",
        "plt.show()"
      ],
      "metadata": {
        "id": "nbgGOdfjzWQK"
      },
      "execution_count": null,
      "outputs": []
    },
    {
      "cell_type": "code",
      "source": [
        "plt.style.use('fivethirtyeight')\n",
        "fig = plt.figure(figsize=(10,6))\n",
        "ax = sns.countplot(x='incident_state', data=df)"
      ],
      "metadata": {
        "id": "CV_XY_RSzZb-"
      },
      "execution_count": null,
      "outputs": []
    },
    {
      "cell_type": "code",
      "source": [
        "fig = plt.figure(figsize=(10,6))\n",
        "ax = sns.countplot(y = 'insured_education_level', data=df)\n",
        "ax.set_ylabel('policy_annual_premium')\n",
        "plt.show()\n",
        "\n",
        "# # Breakdown of Average Vehicle claim by insured's education level, grouped by fraud reported"
      ],
      "metadata": {
        "id": "2BEIFW-zzdfq"
      },
      "execution_count": null,
      "outputs": []
    },
    {
      "cell_type": "code",
      "source": [
        "plt.rcParams['figure.figsize'] = [10, 6]\n",
        "table=pd.crosstab(df.insured_education_level, df.fraud_reported)\n",
        "table.div(table.sum(1).astype(float), axis=0).plot(kind='bar', stacked=True)\n",
        "plt.title('Stacked Bar Chart of insured education vs Fraud reported', fontsize=12)\n",
        "plt.xlabel('Insured_education_level')\n",
        "plt.ylabel('Fraud reported')"
      ],
      "metadata": {
        "id": "s0NRUHvVzfed"
      },
      "execution_count": null,
      "outputs": []
    },
    {
      "cell_type": "code",
      "source": [
        "ax = (df['insured_sex'].value_counts()*100.0 /len(df))\\\n",
        ".plot.pie(autopct='%.1f%%', labels = ['Male', 'Female'], fontsize=12)\n",
        "ax.set_title('% Gender')\n",
        "plt.show()"
      ],
      "metadata": {
        "id": "8LZX0bz2zhsH"
      },
      "execution_count": null,
      "outputs": []
    },
    {
      "cell_type": "code",
      "source": [
        "table=pd.crosstab(df.insured_sex, df.fraud_reported)\n",
        "table.div(table.sum(1).astype(float), axis=0).plot(kind='bar', stacked=True)\n",
        "plt.title('Stacked Bar Chart of insured_sex vs Fraud', fontsize=12)\n",
        "plt.xlabel('Insured_sex')\n",
        "plt.ylabel('Fraud reported')\n",
        "plt.show()"
      ],
      "metadata": {
        "id": "ih88rmdFzklm"
      },
      "execution_count": null,
      "outputs": []
    },
    {
      "cell_type": "code",
      "source": [
        "ax = (df['insured_relationship'].value_counts()*100.0 /len(df))\\\n",
        ".plot.pie(autopct='%.1f%%', labels = ['husband', 'wife', 'own-child', 'unmarried', 'other-relative', 'not-in-family'],\n",
        "         fontsize=12)\n",
        "ax.set_title('% Relationship')\n",
        "plt.show()"
      ],
      "metadata": {
        "id": "WDX7anw4zn9c"
      },
      "execution_count": null,
      "outputs": []
    },
    {
      "cell_type": "code",
      "source": [
        "table=pd.crosstab(df.insured_relationship, df.fraud_reported)\n",
        "table.div(table.sum(1).astype(float), axis=0).plot(kind='bar', stacked=True)\n",
        "plt.title('Stacked Bar Chart of insured_relationship vs Fraud', fontsize=12)\n",
        "plt.xlabel('insured_relationship')\n",
        "plt.ylabel('Fraud reported')\n",
        "plt.show()"
      ],
      "metadata": {
        "id": "qURO7Gm8zqLp"
      },
      "execution_count": null,
      "outputs": []
    },
    {
      "cell_type": "code",
      "source": [
        "fig = plt.figure(figsize=(10,6))\n",
        "ax = (df['incident_type'].value_counts()*100.0 /len(df))\\\n",
        ".plot.pie(autopct='%.1f%%', labels = ['Parked Car', 'Single Vehile Collision', 'Multi-vehicle Collision', 'Vehicle Theft'],\n",
        "         fontsize=12)"
      ],
      "metadata": {
        "id": "dMxaDFnkzsz3"
      },
      "execution_count": null,
      "outputs": []
    },
    {
      "cell_type": "code",
      "source": [
        "fig = plt.figure(figsize=(10,6))\n",
        "ax = (df['authorities_contacted'].value_counts()*100.0 /len(df))\\\n",
        ".plot.pie(autopct='%.1f%%', labels = ['Police', 'Fire', 'Other', 'None', 'Ambulance'],\n",
        "         fontsize=12)"
      ],
      "metadata": {
        "id": "9AmhqvZHzuCi"
      },
      "execution_count": null,
      "outputs": []
    },
    {
      "cell_type": "code",
      "source": [
        "fig = plt.figure(figsize=(10,6))\n",
        "ax = sns.countplot(x='auto_make', data=df)\n",
        "ax.set_xticklabels(ax.get_xticklabels(), rotation=40, ha=\"right\")\n",
        "plt.show()"
      ],
      "metadata": {
        "id": "_yH2Na9Gzxiz"
      },
      "execution_count": null,
      "outputs": []
    },
    {
      "cell_type": "code",
      "source": [
        "fig = plt.figure(figsize=(10,6))\n",
        "ax = (df['incident_severity'].value_counts()*100.0 /len(df))\\\n",
        ".plot.pie(autopct='%.1f%%', labels = ['Major Damage', 'Total Loss', 'Minor Damage', 'Trivial Damage'],\n",
        "         fontsize=12)"
      ],
      "metadata": {
        "id": "tlSkRa2lzy4k"
      },
      "execution_count": null,
      "outputs": []
    },
    {
      "cell_type": "code",
      "source": [
        "fig = plt.figure(figsize=(10,6))\n",
        "ax = sns.countplot(x='insured_hobbies', data=df)\n",
        "ax.set_xticklabels(ax.get_xticklabels(), rotation=40, ha=\"right\")\n",
        "plt.show()"
      ],
      "metadata": {
        "id": "dceqJyBcz16s"
      },
      "execution_count": null,
      "outputs": []
    },
    {
      "cell_type": "code",
      "source": [
        "df[\"insured_occupation\"].value_counts()"
      ],
      "metadata": {
        "id": "CjeKFyL5z4tn"
      },
      "execution_count": null,
      "outputs": []
    },
    {
      "cell_type": "code",
      "source": [
        "plt.style.use('fivethirtyeight')\n",
        "fig = plt.figure(figsize=(10,6))\n",
        "ax= df.groupby('auto_make').vehicle_claim.count().plot.bar(ylim=0)\n",
        "ax.set_ylabel('Vehicle claim')\n",
        "ax.set_xticklabels(ax.get_xticklabels(), rotation=40, ha=\"right\")\n",
        "plt.show()"
      ],
      "metadata": {
        "id": "iC1d5xURz7Uv"
      },
      "execution_count": null,
      "outputs": []
    },
    {
      "cell_type": "code",
      "source": [
        "plt.style.use('fivethirtyeight')\n",
        "fig = plt.figure(figsize=(10,6))\n",
        "ax= df.groupby('insured_hobbies').total_claim_amount.count().plot.bar(ylim=0)\n",
        "ax.set_ylabel('Total claim amount')\n",
        "ax.set_xticklabels(ax.get_xticklabels(), rotation=40, ha=\"right\")\n",
        "plt.show()"
      ],
      "metadata": {
        "id": "dcpeQIPyz-FV"
      },
      "execution_count": null,
      "outputs": []
    },
    {
      "cell_type": "code",
      "source": [
        "df['fraud_reported'].replace(to_replace='Y', value=1, inplace=True)\n",
        "df['fraud_reported'].replace(to_replace='N',  value=0, inplace=True)\n",
        "\n",
        "df.head()"
      ],
      "metadata": {
        "id": "NZFj-DGu0B2S"
      },
      "execution_count": null,
      "outputs": []
    },
    {
      "cell_type": "code",
      "source": [
        "df[['insured_zip']] = df[['insured_zip']].astype(object)\n",
        "df.describe()"
      ],
      "metadata": {
        "id": "TZkpXD4R0Esn"
      },
      "execution_count": null,
      "outputs": []
    },
    {
      "cell_type": "code",
      "source": [
        "df.describe(include='all')"
      ],
      "metadata": {
        "id": "0d7249tk0HA_"
      },
      "execution_count": null,
      "outputs": []
    },
    {
      "cell_type": "code",
      "source": [
        "plt.style.use('fivethirtyeight')\n",
        "fig = plt.figure(figsize=(10,6))\n",
        "table=pd.crosstab(df.policy_csl, df.fraud_reported)\n",
        "table.div(table.sum(1).astype(float), axis=0).plot(kind='bar', stacked=True)\n",
        "plt.title('Stacked Bar Chart of policy_csl vs Fraud', fontsize=12)\n",
        "plt.xlabel('policy_csl')\n",
        "plt.ylabel('Fraud reported')\n",
        "plt.show()"
      ],
      "metadata": {
        "id": "I7-ZU6ry0JRr"
      },
      "execution_count": null,
      "outputs": []
    },
    {
      "cell_type": "code",
      "source": [
        "df['csl_per_person'] = df.policy_csl.str.split('/', expand=True)[0]\n",
        "df['csl_per_accident'] = df.policy_csl.str.split('/', expand=True)[1]\n",
        "df['csl_per_person'].head()"
      ],
      "metadata": {
        "colab": {
          "base_uri": "https://localhost:8080/"
        },
        "id": "PkpuZS4R0MI4",
        "outputId": "e4132064-81ff-47bf-8f36-32e4ddf131d1"
      },
      "execution_count": 35,
      "outputs": [
        {
          "output_type": "execute_result",
          "data": {
            "text/plain": [
              "0    250\n",
              "1    250\n",
              "2    100\n",
              "3    250\n",
              "4    500\n",
              "Name: csl_per_person, dtype: object"
            ]
          },
          "metadata": {},
          "execution_count": 35
        }
      ]
    },
    {
      "cell_type": "code",
      "source": [
        "df['csl_per_accident'].head()"
      ],
      "metadata": {
        "id": "HMU7iujZ0NO6"
      },
      "execution_count": null,
      "outputs": []
    },
    {
      "cell_type": "code",
      "source": [
        "df.auto_year.value_counts()  # check the spread of years to decide on further action."
      ],
      "metadata": {
        "id": "i4-wx0RB0Pyh"
      },
      "execution_count": null,
      "outputs": []
    },
    {
      "cell_type": "code",
      "source": [
        "df['vehicle_age'] = 2018 - df['auto_year'] # Deriving the age of the vehicle based on the year value\n",
        "df['vehicle_age'].head(10)"
      ],
      "metadata": {
        "id": "4ZTMy50R0SMp"
      },
      "execution_count": null,
      "outputs": []
    },
    {
      "cell_type": "code",
      "source": [
        "bins = [-1, 3, 6, 9, 12, 17, 20, 24]  # Factorize according to the time period of the day.\n",
        "names = [\"past_midnight\", \"early_morning\", \"morning\", 'fore-noon', 'afternoon', 'evening', 'night']\n",
        "df['incident_period_of_day'] = pd.cut(df.incident_hour_of_the_day, bins, labels=names).astype(object)\n",
        "df[['incident_hour_of_the_day', 'incident_period_of_day']].head(20)"
      ],
      "metadata": {
        "id": "-pnHPdkv0UxO"
      },
      "execution_count": null,
      "outputs": []
    },
    {
      "cell_type": "code",
      "source": [
        "# Check on categorical variables:\n",
        "df.select_dtypes(include=['object']).columns  # checking categorcial columns"
      ],
      "metadata": {
        "id": "ihFbr2uN0Yfu"
      },
      "execution_count": null,
      "outputs": []
    },
    {
      "cell_type": "code",
      "source": [
        "# dropping unimportant columns\n",
        "\n",
        "df = df.drop(columns = [\n",
        "    'policy_number',\n",
        "    'policy_csl',\n",
        "    'insured_zip',\n",
        "    'policy_bind_date',\n",
        "    'incident_date',\n",
        "    'incident_location',\n",
        "    '_c39',\n",
        "    'auto_year',\n",
        "    'incident_hour_of_the_day'])\n",
        "\n",
        "df.head(2)"
      ],
      "metadata": {
        "id": "MpYg6IQv0bHl"
      },
      "execution_count": null,
      "outputs": []
    },
    {
      "cell_type": "code",
      "source": [
        "# identify variables with '?' values\n",
        "unknowns = {}\n",
        "for i in list(df.columns):\n",
        "    if (df[i]).dtype == object:\n",
        "        j = np.sum(df[i] == \"?\")\n",
        "        unknowns[i] = j\n",
        "unknowns = pd.DataFrame.from_dict(unknowns, orient = 'index')\n",
        "print(unknowns)"
      ],
      "metadata": {
        "id": "pAUz3mM00cgl"
      },
      "execution_count": null,
      "outputs": []
    },
    {
      "cell_type": "code",
      "source": [
        "df.collision_type.value_counts()"
      ],
      "metadata": {
        "id": "euZdE8fh0fg-"
      },
      "execution_count": null,
      "outputs": []
    },
    {
      "cell_type": "code",
      "source": [
        "plt.style.use('fivethirtyeight')\n",
        "fig = plt.figure(figsize=(10,6))\n",
        "ax= df.groupby('collision_type').police_report_available.count().plot.bar(ylim=0)\n",
        "ax.set_ylabel('Police report')\n",
        "ax.set_xticklabels(ax.get_xticklabels(), rotation=10, ha=\"right\")\n",
        "plt.show()"
      ],
      "metadata": {
        "id": "pz3uebcG0hsF"
      },
      "execution_count": null,
      "outputs": []
    },
    {
      "cell_type": "code",
      "source": [
        "df.property_damage.value_counts()"
      ],
      "metadata": {
        "id": "00ZlQN3x0kR4"
      },
      "execution_count": null,
      "outputs": []
    },
    {
      "cell_type": "code",
      "source": [
        "plt.style.use('fivethirtyeight')\n",
        "fig = plt.figure(figsize=(10,6))\n",
        "ax= df.groupby('property_damage').police_report_available.count().plot.bar(ylim=0)\n",
        "ax.set_ylabel('Police report')\n",
        "ax.set_xticklabels(ax.get_xticklabels(), rotation=10, ha=\"right\")\n",
        "plt.show()"
      ],
      "metadata": {
        "id": "yo9UL6T00msU"
      },
      "execution_count": null,
      "outputs": []
    },
    {
      "cell_type": "code",
      "source": [
        "df.police_report_available.value_counts()"
      ],
      "metadata": {
        "id": "okyun83X0pMQ"
      },
      "execution_count": null,
      "outputs": []
    },
    {
      "cell_type": "code",
      "source": [
        "df.columns"
      ],
      "metadata": {
        "id": "QorNCv3o0rVY"
      },
      "execution_count": null,
      "outputs": []
    },
    {
      "cell_type": "code",
      "source": [
        "df._get_numeric_data().head()  # Checking numeric columns"
      ],
      "metadata": {
        "id": "5WA_Q_230tyz"
      },
      "execution_count": null,
      "outputs": []
    },
    {
      "cell_type": "code",
      "source": [
        "df._get_numeric_data().columns"
      ],
      "metadata": {
        "id": "4SIAb_TJ0u8M"
      },
      "execution_count": null,
      "outputs": []
    },
    {
      "cell_type": "code",
      "source": [
        "df.select_dtypes(include=['object']).columns  # checking categorcial columns"
      ],
      "metadata": {
        "id": "WiQffcok0xEQ"
      },
      "execution_count": null,
      "outputs": []
    },
    {
      "cell_type": "code",
      "source": [
        "dummies = pd.get_dummies(df[[\n",
        "    'policy_state',\n",
        "    'insured_sex',\n",
        "    'insured_education_level',\n",
        "    'insured_occupation',\n",
        "    'insured_hobbies',\n",
        "    'insured_relationship',\n",
        "    'incident_type',\n",
        "    'incident_severity',\n",
        "    'authorities_contacted',\n",
        "    'incident_state',\n",
        "    'incident_city',\n",
        "    'auto_make',\n",
        "    'auto_model',\n",
        "    'csl_per_person',\n",
        "    'csl_per_accident',\n",
        "    'incident_period_of_day']])\n",
        "\n",
        "dummies = dummies.join(df[[\n",
        "    'collision_type',\n",
        "    'property_damage',\n",
        "    'police_report_available',\n",
        "    \"fraud_reported\"]])\n",
        "\n",
        "dummies.head()"
      ],
      "metadata": {
        "id": "Ke3qNmH00zeF"
      },
      "execution_count": null,
      "outputs": []
    },
    {
      "cell_type": "code",
      "source": [
        "X = dummies.iloc[:, 0:-1]  # predictor variables\n",
        "y = dummies.iloc[:, -1]  # target variable"
      ],
      "metadata": {
        "id": "LtI8S0b504N3"
      },
      "execution_count": 53,
      "outputs": []
    },
    {
      "cell_type": "code",
      "source": [
        "len(X.columns)"
      ],
      "metadata": {
        "id": "wDbr5BuQ06oV"
      },
      "execution_count": null,
      "outputs": []
    },
    {
      "cell_type": "code",
      "source": [
        "X.head(2)"
      ],
      "metadata": {
        "id": "7RmW7eLY08Uo"
      },
      "execution_count": null,
      "outputs": []
    },
    {
      "cell_type": "code",
      "source": [
        "y.head()"
      ],
      "metadata": {
        "id": "wEJRAyYA0-N2"
      },
      "execution_count": null,
      "outputs": []
    },
    {
      "cell_type": "code",
      "source": [
        "from sklearn.preprocessing import LabelEncoder\n",
        "X['collision_en'] = LabelEncoder().fit_transform(dummies['collision_type'])\n",
        "X[['collision_type', 'collision_en']]"
      ],
      "metadata": {
        "id": "weDitQXT1Bj_"
      },
      "execution_count": null,
      "outputs": []
    },
    {
      "cell_type": "code",
      "source": [
        "X['property_damage'].replace(to_replace='YES', value=1, inplace=True)\n",
        "X['property_damage'].replace(to_replace='NO', value=0, inplace=True)\n",
        "X['property_damage'].replace(to_replace='?', value=0, inplace=True)\n",
        "X['police_report_available'].replace(to_replace='YES', value=1, inplace=True)\n",
        "X['police_report_available'].replace(to_replace='NO', value=0, inplace=True)\n",
        "X['police_report_available'].replace(to_replace='?', value=0, inplace=True)\n",
        "\n",
        "X.head(10)"
      ],
      "metadata": {
        "id": "PV9eUWU01JQ5"
      },
      "execution_count": null,
      "outputs": []
    },
    {
      "cell_type": "code",
      "source": [
        "X = X.drop(columns = ['collision_type'])\n",
        "X.head(2)"
      ],
      "metadata": {
        "id": "5EO9QOax1Khz"
      },
      "execution_count": null,
      "outputs": []
    },
    {
      "cell_type": "code",
      "source": [
        "X = pd.concat([X, df._get_numeric_data()], axis=1)  # joining numeric columns\n",
        "X.head(2)"
      ],
      "metadata": {
        "id": "CpqQ3FH51MeR"
      },
      "execution_count": null,
      "outputs": []
    },
    {
      "cell_type": "code",
      "source": [
        "X.columns"
      ],
      "metadata": {
        "id": "CZwMQs0L1Oam"
      },
      "execution_count": null,
      "outputs": []
    },
    {
      "cell_type": "code",
      "source": [
        "X = X.drop(columns = ['fraud_reported'])  # dropping target variable 'fraud_reported'\n",
        "X.columns"
      ],
      "metadata": {
        "id": "Awa66ycS1QPq"
      },
      "execution_count": null,
      "outputs": []
    },
    {
      "cell_type": "code",
      "source": [
        "!pip install scikit-learn"
      ],
      "metadata": {
        "colab": {
          "base_uri": "https://localhost:8080/"
        },
        "id": "6q37gqrx1bYX",
        "outputId": "4b51adc7-be70-4223-bd94-a1b8732afd53"
      },
      "execution_count": 64,
      "outputs": [
        {
          "output_type": "stream",
          "name": "stdout",
          "text": [
            "Requirement already satisfied: scikit-learn in /usr/local/lib/python3.10/dist-packages (1.2.2)\n",
            "Requirement already satisfied: numpy>=1.17.3 in /usr/local/lib/python3.10/dist-packages (from scikit-learn) (1.25.2)\n",
            "Requirement already satisfied: scipy>=1.3.2 in /usr/local/lib/python3.10/dist-packages (from scikit-learn) (1.11.4)\n",
            "Requirement already satisfied: joblib>=1.1.1 in /usr/local/lib/python3.10/dist-packages (from scikit-learn) (1.3.2)\n",
            "Requirement already satisfied: threadpoolctl>=2.0.0 in /usr/local/lib/python3.10/dist-packages (from scikit-learn) (3.4.0)\n"
          ]
        }
      ]
    },
    {
      "cell_type": "code",
      "source": [
        "from sklearn.discriminant_analysis import LinearDiscriminantAnalysis\n",
        "from sklearn.model_selection import KFold\n",
        "from sklearn.model_selection import cross_val_score"
      ],
      "metadata": {
        "id": "ClAGRP3_1flF"
      },
      "execution_count": 65,
      "outputs": []
    },
    {
      "cell_type": "code",
      "source": [
        "kfold = KFold(n_splits=5, random_state=7, shuffle=True)"
      ],
      "metadata": {
        "id": "D0lbR_F81iJx"
      },
      "execution_count": 66,
      "outputs": []
    },
    {
      "cell_type": "code",
      "source": [
        "result = cross_val_score(model, X, y, cv=kfold, scoring='accuracy')\n",
        "print(result.mean())"
      ],
      "metadata": {
        "colab": {
          "base_uri": "https://localhost:8080/"
        },
        "id": "LGH_iB3Y1qEQ",
        "outputId": "913e1142-1b3f-49dc-a8b4-76c48b67086c"
      },
      "execution_count": 68,
      "outputs": [
        {
          "output_type": "stream",
          "name": "stdout",
          "text": [
            "0.836\n"
          ]
        }
      ]
    },
    {
      "cell_type": "code",
      "source": [
        "print(\"Accuracy: %0.2f (+/- %0.2f)\" % (result.mean(), result.std() * 2))"
      ],
      "metadata": {
        "colab": {
          "base_uri": "https://localhost:8080/"
        },
        "id": "OGc9Wp_J1R5e",
        "outputId": "59cae73e-fa23-44f1-a35a-0f470c3e2de0"
      },
      "execution_count": 69,
      "outputs": [
        {
          "output_type": "stream",
          "name": "stdout",
          "text": [
            "Accuracy: 0.84 (+/- 0.03)\n"
          ]
        }
      ]
    },
    {
      "cell_type": "code",
      "source": [
        "from sklearn.model_selection import train_test_split\n",
        "X_train, X_test, y_train, y_test = train_test_split(X, y, train_size=0.8, random_state=7)\n",
        "print('length of X_train and X_test: ', len(X_train), len(X_test))\n",
        "print('length of y_train and y_test: ', len(y_train), len(y_test))"
      ],
      "metadata": {
        "colab": {
          "base_uri": "https://localhost:8080/"
        },
        "id": "PIyJFh_n1ytw",
        "outputId": "689feed1-8274-4162-f59f-d2aa79f923dd"
      },
      "execution_count": 70,
      "outputs": [
        {
          "output_type": "stream",
          "name": "stdout",
          "text": [
            "length of X_train and X_test:  800 200\n",
            "length of y_train and y_test:  800 200\n"
          ]
        }
      ]
    },
    {
      "cell_type": "code",
      "source": [
        "from sklearn.ensemble import RandomForestClassifier\n",
        "from sklearn.metrics import accuracy_score, recall_score, classification_report, cohen_kappa_score\n",
        "from sklearn import metrics\n",
        "\n",
        "# Baseline Random forest based Model\n",
        "rfc = RandomForestClassifier(n_estimators=200)\n",
        "\n",
        "kfold = KFold(n_splits=5)\n",
        "result2 = cross_val_score(rfc, X_train, y_train, cv=kfold, scoring='accuracy')\n",
        "print(result2.mean())"
      ],
      "metadata": {
        "colab": {
          "base_uri": "https://localhost:8080/"
        },
        "id": "nJwKQ--D13hv",
        "outputId": "fc6316be-446b-489f-c63a-f7fee57a0b59"
      },
      "execution_count": 73,
      "outputs": [
        {
          "output_type": "stream",
          "name": "stdout",
          "text": [
            "0.7812500000000001\n"
          ]
        }
      ]
    },
    {
      "cell_type": "code",
      "source": [
        "# Generate a Histogram plot for anomaly detection\n",
        "plt.style.use('fivethirtyeight')\n",
        "plt.rcParams['figure.figsize'] = [15, 8]\n",
        "df.plot(kind='hist')\n",
        "plt.show()"
      ],
      "metadata": {
        "colab": {
          "base_uri": "https://localhost:8080/",
          "height": 336
        },
        "id": "RBgrxx8k2Lgr",
        "outputId": "a95cb7e2-3812-4700-9ffd-e2ef7895f804"
      },
      "execution_count": 74,
      "outputs": [
        {
          "output_type": "display_data",
          "data": {
            "text/plain": [
              "<Figure size 1500x800 with 1 Axes>"
            ],
            "image/png": "[encoded data removed]"
          },
          "metadata": {}
        }
      ]
    },
    {
      "cell_type": "code",
      "source": [
        "plt.rcParams['figure.figsize'] = [5, 5]\n",
        "sns.boxplot(x=X.policy_annual_premium)\n",
        "plt.show()"
      ],
      "metadata": {
        "id": "WcwqWBWi2N_u"
      },
      "execution_count": null,
      "outputs": []
    },
    {
      "cell_type": "code",
      "source": [
        "sns.boxplot(x=X.witnesses)\n",
        "plt.show()"
      ],
      "metadata": {
        "id": "5OlnFP-L2Rig"
      },
      "execution_count": null,
      "outputs": []
    },
    {
      "cell_type": "code",
      "source": [
        "sns.boxplot(x=X.vehicle_age)\n",
        "plt.show()"
      ],
      "metadata": {
        "id": "uPdD2x8R2S4C"
      },
      "execution_count": null,
      "outputs": []
    },
    {
      "cell_type": "code",
      "source": [
        "from sklearn.preprocessing import StandardScaler\n",
        "scaler = StandardScaler(with_mean=False)\n",
        "X_train_scaled = scaler.fit_transform(X_train)\n",
        "X_test_scaled = scaler.transform(X_test)"
      ],
      "metadata": {
        "id": "brFTU9aO2WtB"
      },
      "execution_count": 78,
      "outputs": []
    },
    {
      "cell_type": "code",
      "source": [
        "X_train_scaled"
      ],
      "metadata": {
        "id": "FXSwXjMp2X5Y"
      },
      "execution_count": null,
      "outputs": []
    },
    {
      "cell_type": "code",
      "source": [
        "X_train_scaled = pd.DataFrame(X_train_scaled, columns = X_train.columns) # retaining columns names\n",
        "X_train_scaled.head(2)"
      ],
      "metadata": {
        "id": "B2X-0lgz2bCM"
      },
      "execution_count": null,
      "outputs": []
    },
    {
      "cell_type": "code",
      "source": [
        "# Generate a Histogram plot on scaled data to check anomalies\n",
        "plt.rcParams['figure.figsize'] = [15, 8]\n",
        "X_train_scaled.plot(kind='hist')"
      ],
      "metadata": {
        "id": "0WxDqAK02dat"
      },
      "execution_count": null,
      "outputs": []
    },
    {
      "cell_type": "code",
      "source": [
        "x_train_scaled = pd.DataFrame.to_numpy(X_train_scaled) # converting to array for computational ease\n",
        "x_train_scaled"
      ],
      "metadata": {
        "id": "5CFItAxD2hys"
      },
      "execution_count": null,
      "outputs": []
    },
    {
      "cell_type": "code",
      "source": [
        "from sklearn.ensemble import AdaBoostClassifier, VotingClassifier\n",
        "from sklearn.naive_bayes import GaussianNB\n",
        "from sklearn import model_selection\n",
        "from sklearn.model_selection import KFold, cross_val_score\n",
        "from xgboost import XGBClassifier\n",
        "from sklearn.linear_model import LogisticRegressionCV\n",
        "from sklearn.tree import DecisionTreeClassifier\n",
        "from sklearn.neighbors import KNeighborsClassifier\n",
        "from sklearn.svm import SVC\n",
        "\n",
        "xgb = XGBClassifier()\n",
        "logreg= LogisticRegressionCV(solver='lbfgs', cv=10)\n",
        "knn = KNeighborsClassifier(5)\n",
        "svcl = SVC()\n",
        "adb = AdaBoostClassifier()\n",
        "dt = DecisionTreeClassifier(max_depth=5)\n",
        "rf = RandomForestClassifier()\n",
        "lda = LinearDiscriminantAnalysis()\n",
        "gnb = GaussianNB()\n",
        "\n",
        "# prepare configuration for cross validation test harness\n",
        "seed = 7\n",
        "# prepare models\n",
        "models = []\n",
        "models.append(('LR', LogisticRegressionCV(solver='lbfgs', max_iter=5000, cv=10)))\n",
        "models.append(('XGB', XGBClassifier()))\n",
        "models.append(('KNN', KNeighborsClassifier()))\n",
        "models.append(('DT', DecisionTreeClassifier()))\n",
        "models.append(('SVM', SVC(gamma='auto')))\n",
        "models.append(('RF', RandomForestClassifier(n_estimators=200)))\n",
        "models.append(('ADA', AdaBoostClassifier(n_estimators=200)))\n",
        "models.append(('LDA', LinearDiscriminantAnalysis()))\n",
        "models.append(('GNB', GaussianNB()))\n",
        "\n",
        "# evaluate each model in turn\n",
        "results = []\n",
        "names = []\n",
        "scoring = 'accuracy'\n",
        "for name, model in models:\n",
        "    kfold = model_selection.KFold(n_splits=10)\n",
        "    cv_results = model_selection.cross_val_score(model, x_train_scaled, y_train, cv=kfold, scoring=scoring)\n",
        "    results.append(cv_results)\n",
        "    names.append(name)\n",
        "    msg = \"%s: %f (%f)\" % (name, cv_results.mean(), cv_results.std())\n",
        "    print(msg)\n",
        "\n",
        "# boxplot algorithm comparison\n",
        "plt.rcParams['figure.figsize'] = [15, 8]\n",
        "fig = plt.figure()\n",
        "fig.suptitle('Algorithm Comparison')\n",
        "ax = fig.add_subplot(111)\n",
        "plt.boxplot(results)\n",
        "ax.set_xticklabels(names)\n",
        "plt.show()"
      ],
      "metadata": {
        "colab": {
          "base_uri": "https://localhost:8080/",
          "height": 534
        },
        "id": "KQW_YQVq2oLJ",
        "outputId": "edddc34c-5a60-4b5e-a7ec-f5d6dd2c7f67"
      },
      "execution_count": 84,
      "outputs": [
        {
          "output_type": "stream",
          "name": "stdout",
          "text": [
            "LR: 0.826250 (0.034664)\n",
            "XGB: 0.817500 (0.036742)\n",
            "KNN: 0.735000 (0.055283)\n",
            "DT: 0.795000 (0.030721)\n",
            "SVM: 0.780000 (0.038810)\n",
            "RF: 0.783750 (0.044388)\n",
            "ADA: 0.797500 (0.036142)\n",
            "LDA: 0.840000 (0.029475)\n",
            "GNB: 0.618750 (0.076291)\n"
          ]
        },
        {
          "output_type": "display_data",
          "data": {
            "text/plain": [
              "<Figure size 1500x800 with 1 Axes>"
            ],
            "image/png": "[encoded data removed]"
          },
          "metadata": {}
        }
      ]
    },
    {
      "cell_type": "code",
      "source": [
        "clf1= LogisticRegressionCV(solver='lbfgs', max_iter=5000, cv=10)\n",
        "clf2 = XGBClassifier()\n",
        "\n",
        "clf = [\n",
        "    ('LR', clf1),\n",
        "    ('XGB', clf2)]\n",
        "\n",
        "#create our voting classifier, inputting our models\n",
        "eclf= VotingClassifier(estimators=[\n",
        "    ('LR', clf1),\n",
        "    ('XGB', clf2)], voting='hard')\n",
        "\n",
        "for clf, label in zip([clf1, clf2, eclf], [\n",
        "    'Logistic Regression',\n",
        "    'XGB Classifier',\n",
        "    'Ensemble']):\n",
        "\n",
        "    scores = cross_val_score(clf, x_train_scaled, y_train, cv=10, scoring='accuracy')\n",
        "    print(\"Accuracy: %0.2f (+/- %0.2f) [%s]\" % (scores.mean(), scores.std(), label))"
      ],
      "metadata": {
        "colab": {
          "base_uri": "https://localhost:8080/"
        },
        "id": "OTNgWBNQ29KG",
        "outputId": "83bc9341-b996-47ec-e434-fb325c9a864b"
      },
      "execution_count": 85,
      "outputs": [
        {
          "output_type": "stream",
          "name": "stdout",
          "text": [
            "Accuracy: 0.83 (+/- 0.03) [Logistic Regression]\n",
            "Accuracy: 0.82 (+/- 0.04) [XGB Classifier]\n",
            "Accuracy: 0.81 (+/- 0.03) [Ensemble]\n"
          ]
        }
      ]
    },
    {
      "cell_type": "code",
      "source": [
        "from numpy import sort\n",
        "from sklearn.feature_selection import SelectFromModel\n",
        "\n",
        "# fit model on all training data\n",
        "xgb = XGBClassifier()\n",
        "xgb.fit(x_train_scaled, y_train)\n",
        "\n",
        "# make predictions for test data and evaluate\n",
        "xgb_pred = xgb.predict(X_test_scaled)\n",
        "predictions = [round(value) for value in xgb_pred]\n",
        "accuracy = accuracy_score(y_test, xgb_pred)\n",
        "print(\"Accuracy: %.2f%%\" % (accuracy * 100.0))\n",
        "\n",
        "# Fit model using each importance as a threshold\n",
        "thresholds = sort(xgb.feature_importances_)\n",
        "for thresh in thresholds:\n",
        "\n",
        "    # select features using threshold\n",
        "    selection = SelectFromModel(xgb, threshold=thresh, prefit=True)\n",
        "    select_X_train = selection.transform(x_train_scaled)\n",
        "\n",
        "    # train model\n",
        "    selection_model = XGBClassifier()\n",
        "    selection_model.fit(select_X_train, y_train)\n",
        "\n",
        "    # eval model\n",
        "    select_X_test = selection.transform(X_test_scaled)\n",
        "    xgb_pred = selection_model.predict(select_X_test)\n",
        "    predictions = [round(value) for value in xgb_pred]\n",
        "    accuracy = accuracy_score(y_test, xgb_pred)\n",
        "    print(\"Thresh=%.3f, n=%d, Accuracy: %.2f%%\" % (thresh, select_X_train.shape[1], accuracy*100.0))"
      ],
      "metadata": {
        "id": "1nWnmy0O3DB-"
      },
      "execution_count": null,
      "outputs": []
    },
    {
      "cell_type": "code",
      "source": [
        "from xgboost import plot_importance\n",
        "x = XGBClassifier()\n",
        "x.fit(X_train_scaled, y_train) # fitting the model again on dataframe to identify the feature names\n",
        "\n",
        "plt.rcParams['figure.figsize'] = [25, 20]\n",
        "# plot feature importance\n",
        "plot_importance(x)"
      ],
      "metadata": {
        "id": "lV6D1fh83oaR"
      },
      "execution_count": null,
      "outputs": []
    },
    {
      "cell_type": "code",
      "source": [
        "from pprint import pprint\n",
        "# Check parameters used\n",
        "print('Parameters currently in use:\\n')\n",
        "pprint(x.get_params())"
      ],
      "metadata": {
        "id": "mZIySaDk3wd_"
      },
      "execution_count": null,
      "outputs": []
    },
    {
      "cell_type": "code",
      "source": [
        "from sklearn.model_selection import StratifiedKFold\n",
        "from sklearn.model_selection import GridSearchCV\n",
        "import matplotlib\n",
        "matplotlib.use('Agg')\n",
        "from matplotlib import pyplot\n",
        "plt.rcParams['figure.figsize'] = [10, 6]\n",
        "\n",
        "# grid search\n",
        "max_depth = range(1, 11, 2)\n",
        "print(max_depth)\n",
        "\n",
        "param_grid = dict(max_depth=max_depth)\n",
        "kfold = StratifiedKFold(n_splits=10, shuffle=True, random_state=7)\n",
        "grid_search = GridSearchCV(xgb, param_grid, scoring=\"neg_log_loss\", n_jobs=-1, cv=kfold, verbose=1)\n",
        "grid_result = grid_search.fit(x_train_scaled, y_train)\n",
        "\n",
        "# summarize results\n",
        "print(\"Best: %f using %s\" % (grid_result.best_score_, grid_result.best_params_))\n",
        "means = grid_result.cv_results_['mean_test_score']\n",
        "stds = grid_result.cv_results_['std_test_score']\n",
        "params = grid_result.cv_results_['params']\n",
        "for mean, stdev, param in zip(means, stds, params):\n",
        "    print(\"%f (%f) with: %r\" % (mean, stdev, param))\n",
        "\n",
        "\n",
        "# plot\n",
        "pyplot.errorbar(max_depth, means, yerr=stds)\n",
        "pyplot.title(\"XGBoost max_depth vs Log Loss\")\n",
        "pyplot.xlabel('max_depth')\n",
        "pyplot.ylabel('Log Loss')"
      ],
      "metadata": {
        "colab": {
          "base_uri": "https://localhost:8080/"
        },
        "id": "NYmv3D8c4C0C",
        "outputId": "3c0e6652-5f21-4490-a988-8b154af8e78c"
      },
      "execution_count": 90,
      "outputs": [
        {
          "output_type": "stream",
          "name": "stdout",
          "text": [
            "range(1, 11, 2)\n",
            "Fitting 10 folds for each of 5 candidates, totalling 50 fits\n",
            "Best: -0.384672 using {'max_depth': 1}\n",
            "-0.384672 (0.074473) with: {'max_depth': 1}\n",
            "-0.465093 (0.104230) with: {'max_depth': 3}\n",
            "-0.552620 (0.155777) with: {'max_depth': 5}\n",
            "-0.540040 (0.157848) with: {'max_depth': 7}\n",
            "-0.540898 (0.145229) with: {'max_depth': 9}\n"
          ]
        },
        {
          "output_type": "execute_result",
          "data": {
            "text/plain": [
              "Text(0, 0.5, 'Log Loss')"
            ]
          },
          "metadata": {},
          "execution_count": 90
        }
      ]
    },
    {
      "cell_type": "code",
      "source": [],
      "metadata": {
        "id": "4MuFUUwD4V-h"
      },
      "execution_count": null,
      "outputs": []
    },
    {
      "cell_type": "code",
      "source": [],
      "metadata": {
        "id": "oGfDKQEw3zLP"
      },
      "execution_count": null,
      "outputs": []
    }
  ]
}